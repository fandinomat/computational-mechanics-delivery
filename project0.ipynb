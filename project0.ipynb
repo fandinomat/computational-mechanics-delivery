{
 "cells": [
  {
   "cell_type": "markdown",
   "id": "3e9a4bab-fd29-4373-96f1-8d4ac239112a",
   "metadata": {},
   "source": [
    "<img src=\"images/TRU_Logo_Horizontal_RGB-colour37470.png\" width=600 />\n",
    "<!-- The line above is html code. This line is html comment, it won't affect the output -->\n",
    "\n",
    "# Physics 2200 - Mechanics\n",
    "## Project 0 - Introduction to Python"
   ]
  },
  {
   "cell_type": "markdown",
   "id": "b446910e-d877-447f-9cc0-052e7ebce205",
   "metadata": {},
   "source": [
    "Welcome to Project 0. It is zero because we are not covering any Physics here. The goal is to give you a refresher on Computer Programming that you should have already completed. If not, this will give you the basics you need to do well enough since the only way to be a better programmer is to practice.\n",
    "\n",
    "The programming language we will be using is Python. Mainly because it is being used in advanced topics like AI, Data Science, and Quantum Computing. The hallmark of Python is its ease of use, simply download python, a code editor, and you can get started immediately."
   ]
  },
  {
   "cell_type": "markdown",
   "id": "3e51a117-1fb5-4863-b97b-41eb9cf936c8",
   "metadata": {},
   "source": [
    "### Basics"
   ]
  },
  {
   "cell_type": "markdown",
   "id": "fa0ea87f-72cc-4f2b-9218-ca2f9c7f9274",
   "metadata": {},
   "source": [
    "So, first thing you should know about is variables. Variables are where we store simple data. Python has built in data checking to ensure that if you intend on adding two numbers you do not get an error. With something like Java, you have to store the data in specific types and can only do operations on the same types. Operations are the same, +, - for addition and subtraction and *, / for multiplication division.\n",
    "\n",
    "The print statement will allow you to see what is stored or what an operation will do. The following code cell, when run, will show basic operations. To run a code cell, select the cell and click on the \"play\" icon above. You can also just select the cell and press \"Shift + Enter\"."
   ]
  },
  {
   "cell_type": "code",
   "execution_count": 7,
   "id": "682fca8e-7032-43cb-b880-22992e1d2874",
   "metadata": {},
   "outputs": [
    {
     "name": "stdout",
     "output_type": "stream",
     "text": [
      "b * a =  12\n",
      "b/a =  1.3333333333333333\n",
      "b^a =  64\n"
     ]
    }
   ],
   "source": [
    "# first code block, all code runs through here\n",
    "a = 3\n",
    "b = 4\n",
    "\n",
    "c= a*b # a times b\n",
    "print(\"b * a = \",c)\n",
    "div = b/a # b divided by a\n",
    "print(\"b/a = \",div)\n",
    "exp = b**a # exponent value b to the power of a\n",
    "print(\"b^a = \",exp)"
   ]
  },
  {
   "cell_type": "markdown",
   "id": "c8fd5f25-7102-4a93-a423-bd66af36b7e7",
   "metadata": {},
   "source": [
    "Make sure everything is clear to you in the cell above. Notice everything after a `#` character is treated as a comment in Python. With variables we can start building equations up. However, if we want to start doing algorithms we need to increase the complexity of the operations we can use."
   ]
  },
  {
   "cell_type": "markdown",
   "id": "d882267a-05b9-46fa-8093-aaaa112b9f80",
   "metadata": {},
   "source": [
    "#### If Statement\n",
    "The if statement is the gateway to more complex operations. This allows for decisions to be made. When it comes to other programming languages, the way they keep track of what is in the scope of the if statement is by using `{}`. Anything inside is in the if statement. Python does not do that. In Python, anything that is indented is in the scope of the statement.\n",
    "\n",
    "The basic syntax of an if statement is\n",
    "\n",
    "`if [condition]:`\n",
    "\n",
    "`    code`\n",
    "\n",
    "The `[condition]` is a boolean (true/false) statement and use *boolean* operators: `<`,`>`,`==`."
   ]
  },
  {
   "cell_type": "code",
   "execution_count": 3,
   "id": "9dc1d7be-6277-4d4e-9507-c86d318ed77d",
   "metadata": {},
   "outputs": [
    {
     "name": "stdout",
     "output_type": "stream",
     "text": [
      "that one\n"
     ]
    }
   ],
   "source": [
    "if a>b:\n",
    "    print(\"this one\")\n",
    "else:\n",
    "    print(\"that one\")"
   ]
  },
  {
   "cell_type": "markdown",
   "id": "7e2651db-9c35-4e32-8654-7b022648fdda",
   "metadata": {},
   "source": [
    "Note that the above code still uses the variables `a` and `b` from the first code block. Variables defined in previous cells remain for as long as you are running the noitebook. This is important to remember for the upcoming projects."
   ]
  },
  {
   "cell_type": "markdown",
   "id": "14dadfa6-372b-4968-928b-b107cef8edc1",
   "metadata": {
    "tags": []
   },
   "source": [
    "#### Loops\n",
    "There are two main types of loops that you will encounter: `For` and `While`. The for loop is a counting loop, it will keep repeating until the counter or iteratables are exhausted. We use lists to tell the `for loop` which numbers to iterate over. To create a list in Python just put a bunch of numbers separated by comas inside square brackets."
   ]
  },
  {
   "cell_type": "code",
   "execution_count": 6,
   "id": "592a695e-c91c-4e3a-b79b-ffae5a97357f",
   "metadata": {},
   "outputs": [
    {
     "name": "stdout",
     "output_type": "stream",
     "text": [
      "This is my list: [0, 1, 2, 3, 4]\n"
     ]
    }
   ],
   "source": [
    "mylist = [0, 1, 2, 3, 4]\n",
    "print(\"This is my list:\", mylist)"
   ]
  },
  {
   "cell_type": "markdown",
   "id": "49950f7d-9b7f-420b-84b3-0bb8f95c6d4d",
   "metadata": {},
   "source": [
    "Here is how to use a list to iterate with a `for` loop:"
   ]
  },
  {
   "cell_type": "code",
   "execution_count": 8,
   "id": "f24f32f3-991f-453f-97b2-558adb7630b3",
   "metadata": {},
   "outputs": [
    {
     "name": "stdout",
     "output_type": "stream",
     "text": [
      "0\n",
      "1\n",
      "2\n",
      "3\n",
      "4\n"
     ]
    }
   ],
   "source": [
    "# for loop\n",
    "for index in mylist:\n",
    "    print(index)"
   ]
  },
  {
   "cell_type": "markdown",
   "id": "13f5752a-6729-4ed2-a906-54e3f0d4bba7",
   "metadata": {},
   "source": [
    "Again, note the indentation. Anything indented is in the scope of the loop.\n",
    "\n",
    "The `for` loop does whatever code is in its scope (indented) for every item on `mylist`.\n",
    "There is an easier way to create lists that are simple sequences of numbers for a `for` loop: using the `range` function."
   ]
  },
  {
   "cell_type": "code",
   "execution_count": 10,
   "id": "2239877a-9b2f-408e-96d7-d768fb8d0911",
   "metadata": {},
   "outputs": [
    {
     "name": "stdout",
     "output_type": "stream",
     "text": [
      "0\n",
      "1\n",
      "2\n",
      "3\n",
      "4\n",
      "5\n",
      "6\n"
     ]
    }
   ],
   "source": [
    "# for loop\n",
    "for index in range(7):\n",
    "    print(index)"
   ]
  },
  {
   "cell_type": "markdown",
   "id": "bba0f4b6-9c65-4899-8514-977a88229dd7",
   "metadata": {},
   "source": [
    "Notice that when we use `range(7)`, the `for` loop iterates from 0 to 6. It iterates on 7 numbers, but starts from zero. "
   ]
  },
  {
   "cell_type": "markdown",
   "id": "0a21ceb0-3d75-4427-8c1a-c23092c3a04b",
   "metadata": {},
   "source": [
    "The while loop is more like the repeated if statement. As long as a condition is true, then keep looping. The while loop is a little more finicky as if you set up the condition incorrectly, then you can end up with an infinite loop. The infinite loop occurs only when the condition cannot become false."
   ]
  },
  {
   "cell_type": "code",
   "execution_count": 11,
   "id": "036a40e7-35d1-42f7-b4c3-d7a30a2b32d1",
   "metadata": {},
   "outputs": [
    {
     "name": "stdout",
     "output_type": "stream",
     "text": [
      "3\n",
      "4\n",
      "5\n",
      "6\n",
      "7\n",
      "8\n",
      "9\n",
      "a:  10\n"
     ]
    }
   ],
   "source": [
    "# while loop:\n",
    "while a<10:\n",
    "    print(a)\n",
    "    a = a + 1\n",
    "\n",
    "print(\"a: \",a)"
   ]
  },
  {
   "cell_type": "markdown",
   "id": "f772b927-3600-4ac6-bc3a-343597dcb07c",
   "metadata": {},
   "source": [
    "Notice I have two lines of code **inside** the while loop here: a print statement and a line to increment `a` by 1. The third line after the loop mis **not** indented, so it will only be executed once after the loop is finished."
   ]
  },
  {
   "cell_type": "markdown",
   "id": "95294f57-3169-4db4-bfd0-cd4c60563867",
   "metadata": {},
   "source": [
    "The next big thing we can do with the three statements is put them all together into a *nested* statement. Again, make sure you understand the function of every line of code in the cell below before you proceed."
   ]
  },
  {
   "cell_type": "code",
   "execution_count": 20,
   "id": "14b32fdd-aa99-4751-ad34-cd1aaef5b6fb",
   "metadata": {},
   "outputs": [
    {
     "name": "stdout",
     "output_type": "stream",
     "text": [
      "0\n",
      "1\n",
      "2\n",
      "3\n",
      "4\n",
      "5\n",
      "midway\n",
      "6\n",
      "7\n",
      "8\n",
      "for loop section\n",
      "0\n",
      "1\n",
      "2\n",
      "3\n",
      "4\n",
      "for loop section complete\n",
      "9\n",
      "10\n"
     ]
    }
   ],
   "source": [
    "count = 0\n",
    "while count<=10:\n",
    "    print(count)\n",
    "    if count == 5:\n",
    "        print(\"midway\")\n",
    "    if count == 8:\n",
    "        print(\"for loop section\")\n",
    "        for i in range(5):\n",
    "            print(i)\n",
    "        print(\"for loop section complete\")\n",
    "    count+=1\n",
    "    "
   ]
  },
  {
   "cell_type": "markdown",
   "id": "bde81ffb-6917-4304-b0fd-fa3eb3b899ea",
   "metadata": {},
   "source": [
    "#### Functions and Plotting\n",
    "\n",
    "The final thing you need to understand is creating functions that can be graphed. The key things to keep in mind are that computers work in finite steps, that is, we create a finite number of points to represent a function. There are different types of graphs and many of them fill in the gaps for the graph between the points we created. \n",
    "\n",
    "To make plots and work with numerical functions we make use of two important Libraries. Libraries are collections of pre-made code. The main library we will be using to construct functions is NumPy, for graphing we will be using MatPlotLib. First thing we need to import the libraries."
   ]
  },
  {
   "cell_type": "code",
   "execution_count": 12,
   "id": "fc45f350-cb43-4e67-a679-c13bbbd6eb3f",
   "metadata": {},
   "outputs": [],
   "source": [
    "import numpy as np\n",
    "import matplotlib.pyplot as plt"
   ]
  },
  {
   "cell_type": "markdown",
   "id": "7db11b78-4f51-4f03-a432-cece683add60",
   "metadata": {},
   "source": [
    "The above code imports the libraries and automatically intializes them as objects. To do graphing, we need to import the pyplot sublibrary from matplotlib.\n",
    "\n",
    "To get started with functions we first need the independent variable, `x`. So, we need a list of ordered values. we could use the Python function `range` we encountered before, but the NumPy Library has an improved version of lists called `arrays`. Let's use arrays, because they are more powerful and are more compatible with the methods included in numpy and motplotlib. To create our first array, we will be using the `np.arange` method: `np.arange([start],[stop],[stepsize])`. Where start is the starting number, stop is the stopping number, and stepsize is the distance between points. Another method to do the same thing is the `np.linspace` method: `np.linspace([start],[stop],[num])` with num being the number of elements between start and stop inclusive.\n",
    "\n",
    "To show the length of the array use the `len()` function and to show the elements of the array use the `print()` function."
   ]
  },
  {
   "cell_type": "code",
   "execution_count": 13,
   "id": "63cac624-278f-4604-9a43-268a03caea85",
   "metadata": {},
   "outputs": [
    {
     "name": "stdout",
     "output_type": "stream",
     "text": [
      "60\n",
      "60\n",
      "x1:\n",
      " [-3.00000000e+00 -2.90000000e+00 -2.80000000e+00 -2.70000000e+00\n",
      " -2.60000000e+00 -2.50000000e+00 -2.40000000e+00 -2.30000000e+00\n",
      " -2.20000000e+00 -2.10000000e+00 -2.00000000e+00 -1.90000000e+00\n",
      " -1.80000000e+00 -1.70000000e+00 -1.60000000e+00 -1.50000000e+00\n",
      " -1.40000000e+00 -1.30000000e+00 -1.20000000e+00 -1.10000000e+00\n",
      " -1.00000000e+00 -9.00000000e-01 -8.00000000e-01 -7.00000000e-01\n",
      " -6.00000000e-01 -5.00000000e-01 -4.00000000e-01 -3.00000000e-01\n",
      " -2.00000000e-01 -1.00000000e-01  2.66453526e-15  1.00000000e-01\n",
      "  2.00000000e-01  3.00000000e-01  4.00000000e-01  5.00000000e-01\n",
      "  6.00000000e-01  7.00000000e-01  8.00000000e-01  9.00000000e-01\n",
      "  1.00000000e+00  1.10000000e+00  1.20000000e+00  1.30000000e+00\n",
      "  1.40000000e+00  1.50000000e+00  1.60000000e+00  1.70000000e+00\n",
      "  1.80000000e+00  1.90000000e+00  2.00000000e+00  2.10000000e+00\n",
      "  2.20000000e+00  2.30000000e+00  2.40000000e+00  2.50000000e+00\n",
      "  2.60000000e+00  2.70000000e+00  2.80000000e+00  2.90000000e+00]\n",
      "\n",
      "x2:\n",
      " [-3.         -2.89830508 -2.79661017 -2.69491525 -2.59322034 -2.49152542\n",
      " -2.38983051 -2.28813559 -2.18644068 -2.08474576 -1.98305085 -1.88135593\n",
      " -1.77966102 -1.6779661  -1.57627119 -1.47457627 -1.37288136 -1.27118644\n",
      " -1.16949153 -1.06779661 -0.96610169 -0.86440678 -0.76271186 -0.66101695\n",
      " -0.55932203 -0.45762712 -0.3559322  -0.25423729 -0.15254237 -0.05084746\n",
      "  0.05084746  0.15254237  0.25423729  0.3559322   0.45762712  0.55932203\n",
      "  0.66101695  0.76271186  0.86440678  0.96610169  1.06779661  1.16949153\n",
      "  1.27118644  1.37288136  1.47457627  1.57627119  1.6779661   1.77966102\n",
      "  1.88135593  1.98305085  2.08474576  2.18644068  2.28813559  2.38983051\n",
      "  2.49152542  2.59322034  2.69491525  2.79661017  2.89830508  3.        ]\n"
     ]
    }
   ],
   "source": [
    "x1 = np.arange(-3,3,.1) # creates an array of values from -3 to 3 with 0.1 step sizes\n",
    "x2 = np.linspace(-3,3,60) # creates an array of values from -3 to 3, 60 elements total which creates a stepsize of .1\n",
    "print(len(x1))\n",
    "print(len(x2))\n",
    "print(\"x1:\\n\",x1)\n",
    "print(\"\\nx2:\\n\",x2)"
   ]
  },
  {
   "cell_type": "markdown",
   "id": "51463dce-3397-42d3-a0ab-8fee52f21d64",
   "metadata": {},
   "source": [
    "Now that we have our x-axis defined from -3 to 3, we can start creating functions and plots."
   ]
  },
  {
   "cell_type": "code",
   "execution_count": 14,
   "id": "c22148ea-3e66-4ec8-bb4e-78008e0a920e",
   "metadata": {},
   "outputs": [],
   "source": [
    "y1 = 5 * x1 # creates a simple linear function\n",
    "y2 = x1**2 # creates a simple quadratic\n",
    "y3 = np.sin(x1) # creates a simple sine function"
   ]
  },
  {
   "cell_type": "markdown",
   "id": "19bffcef-cf38-4603-ab63-7bdaf34923a5",
   "metadata": {},
   "source": [
    "Notice how simple it is to work with arrays. When you multiply the array `x1` by `5`, Python multiplies every entry in the array by `5`! The same thing happens to more complicated functions like squaring (done with `**` in Python), and the sine function  `np.sin()`."
   ]
  },
  {
   "cell_type": "code",
   "execution_count": 18,
   "id": "88d89347-d818-4233-90a6-b7af72d44450",
   "metadata": {},
   "outputs": [
    {
     "data": {
      "image/png": "[encoded data removed]",
      "text/plain": [
       "<Figure size 432x288 with 1 Axes>"
      ]
     },
     "metadata": {
      "needs_background": "light"
     },
     "output_type": "display_data"
    }
   ],
   "source": [
    "plt.plot(x1,y1)  # Creates a plot with smooth lines.\n",
    "plt.grid()  # Creates gridlines on the plot"
   ]
  },
  {
   "cell_type": "code",
   "execution_count": 19,
   "id": "95548460-e5fd-48ce-9ca1-88f362a354ab",
   "metadata": {},
   "outputs": [
    {
     "data": {
      "image/png": "[encoded data removed]",
      "text/plain": [
       "<Figure size 432x288 with 1 Axes>"
      ]
     },
     "metadata": {
      "needs_background": "light"
     },
     "output_type": "display_data"
    }
   ],
   "source": [
    "plt.plot(x1,y2, \"o\")  # Creates a graph with points\n",
    "plt.grid()"
   ]
  },
  {
   "cell_type": "code",
   "execution_count": 20,
   "id": "f9d32e03-a72a-4f7e-b789-53c8b5845a42",
   "metadata": {},
   "outputs": [
    {
     "data": {
      "image/png": "[encoded data removed]",
      "text/plain": [
       "<Figure size 432x288 with 1 Axes>"
      ]
     },
     "metadata": {
      "needs_background": "light"
     },
     "output_type": "display_data"
    }
   ],
   "source": [
    "plt.plot(x1,y3, \"o-\")  # Crerates a plot with circles and smooth lines\n",
    "plt.grid()"
   ]
  },
  {
   "cell_type": "markdown",
   "id": "c646ecbb-9aef-4eb1-ae8a-11be652014b7",
   "metadata": {},
   "source": [
    "The above are three different ways to represent plots. Keep in mind that the the resolution of the graph will depend on the number of data points you have.\n",
    "\n",
    "The course files include premade code for the common plots you will be using throughout the projects. This is called PhysPlot. However, there are more customization options if you decide to code the figures yourself and sometimes our library will be insufficient to your needs. It is highly recommended that you open PhysPlot and read through the code and try them out on your own. To use the custom library:"
   ]
  },
  {
   "cell_type": "code",
   "execution_count": 21,
   "id": "32994317-c1ad-49ec-9d5d-b482cc345347",
   "metadata": {},
   "outputs": [],
   "source": [
    "import PhysPlot as phplt"
   ]
  },
  {
   "cell_type": "markdown",
   "id": "2dc4ec9a-2a91-4bd9-aede-91f8fd4c7edd",
   "metadata": {},
   "source": [
    "### Exercises"
   ]
  },
  {
   "cell_type": "markdown",
   "id": "20aceaeb-0786-40da-89b3-91e8f57f76b2",
   "metadata": {},
   "source": [
    "1) Create an array to represent Fahrenheit temperatures from -40F to 40F. Then create an array with the corresponding Celcius temperatures. Plot the linear relationship between the two."
   ]
  },
  {
   "cell_type": "code",
   "execution_count": 2,
   "id": "ea73e046-ba34-43ab-8216-66bab1749986",
   "metadata": {},
   "outputs": [],
   "source": [
    "# code block for exercise 1 goes here.\n",
    "\n"
   ]
  },
  {
   "cell_type": "markdown",
   "id": "0fa0d47b-19a3-4ee2-b9db-d41f233b2b1a",
   "metadata": {},
   "source": [
    "2) Calculate the distance between any two points, $(x_1,y_1)$ and $(x_2,y_2)$, of your choice using the distance formula $d = \\sqrt{(x_2 - x1)^2 + (y2 - y1)^2}$.\n",
    "\n",
    "Pick whatever values you want for the points.\n",
    "\n",
    "Use the square root function included in numpy: `np.sqrt()` or simply use the power operator `**`."
   ]
  },
  {
   "cell_type": "code",
   "execution_count": 3,
   "id": "64b39dde-8434-4529-8c6b-997f9cf755f0",
   "metadata": {},
   "outputs": [],
   "source": [
    "# code block for exercise 2 goes here.\n",
    "\n"
   ]
  },
  {
   "cell_type": "markdown",
   "id": "0b90b9ef-a982-436e-9ef9-dbb75b2cd81f",
   "metadata": {},
   "source": [
    "3) Create a looping algorithm that will print out the following\n",
    "\n",
    "`*`\n",
    "\n",
    "`**`\n",
    "\n",
    "`***`\n",
    "\n",
    "`****`\n",
    "\n",
    "`*****`\n",
    "\n",
    "`******`\n",
    "\n",
    "and so on for as many times as you choose, using a loop!\n",
    "\n",
    "You can start a string with:\n",
    "\n",
    "`mystring = \"*\"`\n",
    "\n",
    "Then you can increase the string by adding to it:\n",
    "\n",
    "`mystring = mystring + \"*\"`"
   ]
  },
  {
   "cell_type": "code",
   "execution_count": 4,
   "id": "e07615b2-f3fe-485b-b54b-c902148fe283",
   "metadata": {},
   "outputs": [],
   "source": [
    "# code block for exercise 3 goes here.\n",
    "\n"
   ]
  },
  {
   "cell_type": "markdown",
   "id": "1116ac8b-73e9-4118-aff3-e02cb5585f60",
   "metadata": {},
   "source": [
    "4) Create a function that calculates the Gravitational force between the Earth and you. Assume the center of the Earth is the origin, and x is the distance from the center to your position. Graph the function up to 1 km from the center.\n",
    "\n",
    "Mass of the Earth is $5.97\\times 10^{24} kg$ and the gravitational constant is $G = 6.67\\times10^{-11} \\frac{m^3}{kg s^2}$\n",
    "\n",
    "Use the formula: $F = G\\frac{Mm}{r^2}$"
   ]
  },
  {
   "cell_type": "code",
   "execution_count": 5,
   "id": "731fe514-47dd-48a1-92fa-583a370d1212",
   "metadata": {},
   "outputs": [],
   "source": [
    "# Code block for exercise 4 goes here.\n",
    "\n"
   ]
  },
  {
   "cell_type": "code",
   "execution_count": null,
   "id": "29421bc5-c06e-46f8-9727-daeaf087194a",
   "metadata": {},
   "outputs": [],
   "source": []
  }
 ],
 "metadata": {
  "kernelspec": {
   "display_name": "Python 3 (ipykernel)",
   "language": "python",
   "name": "python3"
  },
  "language_info": {
   "codemirror_mode": {
    "name": "ipython",
    "version": 3
   },
   "file_extension": ".py",
   "mimetype": "text/x-python",
   "name": "python",
   "nbconvert_exporter": "python",
   "pygments_lexer": "ipython3",
   "version": "3.8.10"
  }
 },
 "nbformat": 4,
 "nbformat_minor": 5
}
